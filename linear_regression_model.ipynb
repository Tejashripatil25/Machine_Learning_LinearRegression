{
 "cells": [
  {
   "cell_type": "code",
   "execution_count": 1,
   "id": "49bbb04c",
   "metadata": {},
   "outputs": [],
   "source": [
    "import numpy as np\n",
    "import pandas as pd\n",
    "import matplotlib.pyplot as plt\n",
    "import seaborn as sns"
   ]
  },
  {
   "cell_type": "code",
   "execution_count": 2,
   "id": "bd3d1439",
   "metadata": {},
   "outputs": [],
   "source": [
    "ht = [[154],[186],[180],[138],[128],[174]]\n",
    "wt = [[66],[91],[97],[56],[47],[81]]"
   ]
  },
  {
   "cell_type": "code",
   "execution_count": 3,
   "id": "c4901f16",
   "metadata": {},
   "outputs": [
    {
     "data": {
      "text/plain": [
       "[[154], [186], [180], [138], [128], [174]]"
      ]
     },
     "execution_count": 3,
     "metadata": {},
     "output_type": "execute_result"
    }
   ],
   "source": [
    "ht#input/independant/Regressor/features"
   ]
  },
  {
   "cell_type": "code",
   "execution_count": 4,
   "id": "928cba1d",
   "metadata": {},
   "outputs": [
    {
     "data": {
      "text/plain": [
       "[[66], [91], [97], [56], [47], [81]]"
      ]
     },
     "execution_count": 4,
     "metadata": {},
     "output_type": "execute_result"
    }
   ],
   "source": [
    "wt#output/dependant/predictor/class/labels"
   ]
  },
  {
   "cell_type": "code",
   "execution_count": 5,
   "id": "c86cd699",
   "metadata": {},
   "outputs": [],
   "source": [
    "from sklearn.linear_model import LinearRegression"
   ]
  },
  {
   "cell_type": "code",
   "execution_count": 6,
   "id": "e4deb5ab",
   "metadata": {},
   "outputs": [],
   "source": [
    "LR = LinearRegression()"
   ]
  },
  {
   "cell_type": "code",
   "execution_count": 7,
   "id": "6616718c",
   "metadata": {},
   "outputs": [
    {
     "data": {
      "text/plain": [
       "LinearRegression()"
      ]
     },
     "execution_count": 7,
     "metadata": {},
     "output_type": "execute_result"
    }
   ],
   "source": [
    "LR"
   ]
  },
  {
   "cell_type": "code",
   "execution_count": 8,
   "id": "ef0dc8aa",
   "metadata": {},
   "outputs": [
    {
     "data": {
      "text/plain": [
       "LinearRegression()"
      ]
     },
     "execution_count": 8,
     "metadata": {},
     "output_type": "execute_result"
    }
   ],
   "source": [
    "LR.fit(ht,wt)"
   ]
  },
  {
   "cell_type": "code",
   "execution_count": 9,
   "id": "b5e2753d",
   "metadata": {},
   "outputs": [
    {
     "data": {
      "text/plain": [
       "array([[54.96875]])"
      ]
     },
     "execution_count": 9,
     "metadata": {},
     "output_type": "execute_result"
    }
   ],
   "source": [
    "LR.predict([[138]])"
   ]
  },
  {
   "cell_type": "code",
   "execution_count": 10,
   "id": "cdef870d",
   "metadata": {},
   "outputs": [
    {
     "data": {
      "text/plain": [
       "95.63407712105891"
      ]
     },
     "execution_count": 10,
     "metadata": {},
     "output_type": "execute_result"
    }
   ],
   "source": [
    "LR.score(ht,wt)*100"
   ]
  },
  {
   "cell_type": "code",
   "execution_count": 11,
   "id": "90d20663",
   "metadata": {},
   "outputs": [
    {
     "data": {
      "text/plain": [
       "<matplotlib.collections.PathCollection at 0x1d6704723a0>"
      ]
     },
     "execution_count": 11,
     "metadata": {},
     "output_type": "execute_result"
    },
    {
     "data": {
      "image/png": "[encoded data removed]",
      "text/plain": [
       "<Figure size 640x480 with 1 Axes>"
      ]
     },
     "metadata": {},
     "output_type": "display_data"
    }
   ],
   "source": [
    "plt.scatter(ht,wt)"
   ]
  },
  {
   "cell_type": "code",
   "execution_count": 12,
   "id": "d57877e0",
   "metadata": {},
   "outputs": [
    {
     "name": "stdout",
     "output_type": "stream",
     "text": [
      "Please Enter your Height in cm:178\n",
      "For Height 178.0 cm predicted Weight is: 87 kg\n"
     ]
    }
   ],
   "source": [
    "ht = float(input(\"Please Enter your Height in cm:\"))\n",
    "wt = LR.predict([[ht]])\n",
    "print('For Height',ht,'cm','predicted Weight is:',int(wt),'kg')"
   ]
  },
  {
   "cell_type": "code",
   "execution_count": null,
   "id": "7333fab5",
   "metadata": {},
   "outputs": [],
   "source": []
  }
 ],
 "metadata": {
  "kernelspec": {
   "display_name": "Python 3 (ipykernel)",
   "language": "python",
   "name": "python3"
  },
  "language_info": {
   "codemirror_mode": {
    "name": "ipython",
    "version": 3
   },
   "file_extension": ".py",
   "mimetype": "text/x-python",
   "name": "python",
   "nbconvert_exporter": "python",
   "pygments_lexer": "ipython3",
   "version": "3.9.13"
  }
 },
 "nbformat": 4,
 "nbformat_minor": 5
}
